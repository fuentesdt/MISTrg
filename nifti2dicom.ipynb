{
 "cells": [
  {
   "cell_type": "code",
   "execution_count": 3,
   "id": "535a2f70",
   "metadata": {},
   "outputs": [],
   "source": [
    "import pydicom\n",
    "from pydicom.dataset import Dataset, FileDataset\n",
    "from pydicom.uid import ExplicitVRLittleEndian\n",
    "import pydicom._storage_sopclass_uids\n",
    "import numpy as np\n",
    "import os\n",
    "import nibabel as nib\n",
    "\n",
    "patientID = '1052473'\n",
    "patientID = '1091400'\n",
    "pred ='/rsrch1/ip/rglenn1/data/predictions/' + patientID +'.nii.gz'\n",
    "truth = '/rsrch1/ip/rglenn1/data/Processed/' + patientID +'/Truth.raw.nii.gz'\n",
    "art = '/rsrch1/ip/rglenn1/data/Processed/' + patientID +'/Art.raw.nii.gz'\n",
    "pre = '/rsrch1/ip/rglenn1/data/Processed/' + patientID +'/Pre.raw.nii.gz'\n",
    "ven = '/rsrch1/ip/rglenn1/data/Processed/' + patientID +'/Ven.raw.nii.gz'\n",
    " \n",
    "img_pred = nib.load(pred).get_fdata()\n",
    "img_truth = nib.load(truth).get_fdata()\n",
    "img_art = nib.load(art).get_fdata()\n",
    "img_ven = nib.load(ven).get_fdata()\n",
    "img_pre = nib.load(pre).get_fdata()"
   ]
  },
  {
   "cell_type": "code",
   "execution_count": 12,
   "id": "d1ba228f",
   "metadata": {},
   "outputs": [
    {
     "name": "stdout",
     "output_type": "stream",
     "text": [
      "(2.5, 3.5, 4.5) vs (2.5, 3.5, 4.5)\n"
     ]
    },
    {
     "ename": "SystemExit",
     "evalue": "0",
     "output_type": "error",
     "traceback": [
      "An exception has occurred, use %tb to see the full traceback.\n",
      "\u001b[0;31mSystemExit\u001b[0m\u001b[0;31m:\u001b[0m 0\n"
     ]
    },
    {
     "name": "stderr",
     "output_type": "stream",
     "text": [
      "/rsrch1/ip/rglenn1/support_packages/miniconda/conda/envs/tf_gpu4_env/lib/python3.9/site-packages/IPython/core/interactiveshell.py:3406: UserWarning: To exit: use 'exit', 'quit', or Ctrl-D.\n",
      "  warn(\"To exit: use 'exit', 'quit', or Ctrl-D.\", stacklevel=1)\n"
     ]
    }
   ],
   "source": [
    "from __future__ import print_function\n",
    "\n",
    "import SimpleITK as sitk\n",
    "\n",
    "import sys, time, os\n",
    "import numpy as np\n",
    "\n",
    "if len( sys.argv ) < 2:\n",
    "    print( \"Usage: python \" + __file__ + \"<output_directory>\" )\n",
    "    sys.exit ( 1 )\n",
    "\n",
    "def writeSlices(series_tag_values, new_img, i):\n",
    "    image_slice = new_img[:,:,i]\n",
    "\n",
    "    # Tags shared by the series.\n",
    "    list(map(lambda tag_value: image_slice.SetMetaData(tag_value[0], tag_value[1]), series_tag_values))\n",
    "\n",
    "    image_slice.SetMetaData(\"  \", ImagePositionPatient)\n",
    "    \n",
    "    # Slice specific tags.\n",
    "    image_slice.SetMetaData(\"0008|0012\", time.strftime(\"%Y%m%d\")) # Instance Creation Date\n",
    "    image_slice.SetMetaData(\"0008|0013\", time.strftime(\"%H%M%S\")) # Instance Creation Time\n",
    "\n",
    "    # Setting the type to CT preserves the slice location.\n",
    "    image_slice.SetMetaData(\"0008|0060\", \"CT\")  # set the type to CT so the thickness is carried over\n",
    "\n",
    "    # (0020, 0032) image position patient determines the 3D spacing between slices.\n",
    "    image_slice.SetMetaData(\"0020|0032\", '\\\\'.join(map(str,new_img.TransformIndexToPhysicalPoint((0,0,i))))) # Image Position (Patient)\n",
    "    image_slice.SetMetaData(\"0020,0013\", str(i)) # Instance Number\n",
    "    data_directory = '/rsrch1/ip/rglenn1/data/predictions/' + patientID\n",
    "    # Write to the output directory and add the extension dcm, to force writing in DICOM format.\n",
    "    os.system('touch ' + os.path.join(data_directory, str(i)+ '.dcm'))\n",
    "    writer.SetFileName(os.path.join(data_directory,str(i)+'.dcm'))\n",
    "    \n",
    "    writer.Execute(image_slice)\n",
    "\n",
    "\n",
    "# Create a new series from a numpy array\n",
    "#new_arr = np.random.uniform(-10, 10, size = (3,4,5)).astype(np.int16)\n",
    "new_arr = img_pred.astype(np.int16)\n",
    "new_img = sitk.GetImageFromArray(new_arr)\n",
    "new_img.SetSpacing([2.5,3.5,4.5])\n",
    "\n",
    "# Write the 3D image as a series\n",
    "# IMPORTANT: There are many DICOM tags that need to be updated when you modify an\n",
    "#            original image. This is a delicate opration and requires knowlege of\n",
    "#            the DICOM standard. This example only modifies some. For a more complete\n",
    "#            list of tags that need to be modified see:\n",
    "#                           http://gdcm.sourceforge.net/wiki/index.php/Writing_DICOM\n",
    "#            If it is critical for your work to generate valid DICOM files,\n",
    "#            It is recommended to use David Clunie's Dicom3tools to validate the files \n",
    "#                           (http://www.dclunie.com/dicom3tools.html).\n",
    "\n",
    "writer = sitk.ImageFileWriter()\n",
    "# Use the study/series/frame of reference information given in the meta-data\n",
    "# dictionary and not the automatically generated information from the file IO\n",
    "writer.KeepOriginalImageUIDOn()\n",
    "\n",
    "modification_time = time.strftime(\"%H%M%S\")\n",
    "modification_date = time.strftime(\"%Y%m%d\")\n",
    "\n",
    "# Copy some of the tags and add the relevant tags indicating the change.\n",
    "# For the series instance UID (0020|000e), each of the components is a number, cannot start\n",
    "# with zero, and separated by a '.' We create a unique series ID using the date and time.\n",
    "# tags of interest:\n",
    "direction = new_img.GetDirection()\n",
    "series_tag_values = [(\"0008|0031\",modification_time), # Series Time\n",
    "                  (\"0008|0021\",modification_date), # Series Date\n",
    "                  (\"0008|0008\",\"DERIVED\\\\SECONDARY\"), # Image Type\n",
    "                  (\"0020|000e\", \"1.2.826.0.1.3680043.2.1125.\"+modification_date+\".1\"+modification_time), # Series Instance UID\n",
    "                  (\"0020|0037\", '\\\\'.join(map(str, (direction[0], direction[3], direction[6],# Image Orientation (Patient)\n",
    "                                                    direction[1],direction[4],direction[7])))),\n",
    "                  (\"0008|103e\", \"Created-SimpleITK\")] # Series Description\n",
    "\n",
    "# Write slices to output directory\n",
    "list(map(lambda i: writeSlices(series_tag_values, new_img, i), range(new_img.GetDepth())))\n",
    "    \n",
    "# Re-read the series\n",
    "# Read the original series. First obtain the series file names using the\n",
    "# image series reader.\n",
    "data_directory = '/rsrch1/ip/rglenn1/data/predictions/' + patientID\n",
    "series_IDs = sitk.ImageSeriesReader.GetGDCMSeriesIDs(data_directory)\n",
    "if not series_IDs:\n",
    "    print(\"ERROR: given directory \\\"\"+data_directory+\"\\\" does not contain a DICOM series.\")\n",
    "    sys.exit(1)\n",
    "series_file_names = sitk.ImageSeriesReader.GetGDCMSeriesFileNames(data_directory, series_IDs[0])\n",
    "\n",
    "series_reader = sitk.ImageSeriesReader()\n",
    "series_reader.SetFileNames(series_file_names)\n",
    "\n",
    "# Configure the reader to load all of the DICOM tags (public+private):\n",
    "# By default tags are not loaded (saves time).\n",
    "# By default if tags are loaded, the private tags are not loaded.\n",
    "# We explicitly configure the reader to load tags, including the\n",
    "# private ones.\n",
    "series_reader.LoadPrivateTagsOn()\n",
    "image3D = series_reader.Execute()\n",
    "print(image3D.GetSpacing(),'vs',new_img.GetSpacing())\n",
    "sys.exit( 0 )"
   ]
  },
  {
   "cell_type": "code",
   "execution_count": 7,
   "id": "49391b3b",
   "metadata": {},
   "outputs": [
    {
     "data": {
      "text/plain": [
       "576"
      ]
     },
     "execution_count": 7,
     "metadata": {},
     "output_type": "execute_result"
    }
   ],
   "source": [
    "new_img.GetDepth()"
   ]
  },
  {
   "cell_type": "code",
   "execution_count": null,
   "id": "da41e766",
   "metadata": {},
   "outputs": [],
   "source": []
  }
 ],
 "metadata": {
  "kernelspec": {
   "display_name": "Python 3 (ipykernel)",
   "language": "python",
   "name": "python3"
  },
  "language_info": {
   "codemirror_mode": {
    "name": "ipython",
    "version": 3
   },
   "file_extension": ".py",
   "mimetype": "text/x-python",
   "name": "python",
   "nbconvert_exporter": "python",
   "pygments_lexer": "ipython3",
   "version": "3.9.12"
  }
 },
 "nbformat": 4,
 "nbformat_minor": 5
}
